{
 "cells": [
  {
   "cell_type": "markdown",
   "id": "3d9d98c3",
   "metadata": {
    "pycharm": {
     "name": "#%% md\n"
    }
   },
   "source": [
    "# Day 1 excercise - Band Name Generator"
   ]
  },
  {
   "cell_type": "code",
   "execution_count": 3,
   "id": "01a9a1ca",
   "metadata": {
    "pycharm": {
     "name": "#%%\n"
    }
   },
   "outputs": [
    {
     "name": "stdout",
     "output_type": "stream",
     "text": [
      "Hello to the Band Name Genarator!\n",
      "What city did you grow up in?\n",
      "Veria\n",
      "What is the name of your pet?\n",
      "Magkas\n",
      "\n",
      "Your band name could be Veria Magkas!\n",
      "\n"
     ]
    }
   ],
   "source": [
    "#1. Create a greeting for your program.\n",
    "print(\"Hello to the Band Name Genarator!\")\n",
    "\n",
    "#2. Ask the user for the city that they grew up in.\n",
    "city_name = input(\"What city did you grow up in?\\n\")\n",
    "\n",
    "#3. Ask the user for the name of a pet.\n",
    "pet_name = input(\"What is the name of your pet?\\n\")\n",
    "\n",
    "#4. Combine the name of their city and pet and show them their band name.\n",
    "print(\"\\nYour band name could be \" + city_name + \" \" + pet_name + \"!\\n\")\n",
    "\n",
    "#5. Make sure the input cursor shows on a new line, see the example at:\n",
    "#   https://replit.com/@appbrewery/band-name-generator-end"
   ]
  },
  {
   "cell_type": "markdown",
   "id": "53b6843e",
   "metadata": {
    "pycharm": {
     "name": "#%% md\n"
    }
   },
   "source": [
    "# Day 2 project - Tip Claculator"
   ]
  },
  {
   "cell_type": "markdown",
   "id": "28e123ed",
   "metadata": {
    "pycharm": {
     "name": "#%% md\n"
    }
   },
   "source": [
    "Example input:\n",
    "\n",
    "Welcome to the tip calculator!\n",
    "\n",
    "What was the total bill? $124.56\n",
    "\n",
    "How much tip would you like to give? 10, 12, or 15? 12\n",
    "\n",
    "How many people to split the bill? 7"
   ]
  },
  {
   "cell_type": "code",
   "execution_count": 10,
   "id": "8db0b90b",
   "metadata": {
    "pycharm": {
     "name": "#%%\n"
    }
   },
   "outputs": [
    {
     "name": "stdout",
     "output_type": "stream",
     "text": [
      "Welcome to the tip calculator!\n",
      "What was the total bill?100\n",
      "How much tip would you like to give? 10, 12, or 15?10\n",
      "How many people to split the bill?11\n",
      "Each person should pay: $10.00\n"
     ]
    }
   ],
   "source": [
    "#If the bill was $150.00, split between 5 people, with 12% tip. \n",
    "\n",
    "#Each person should pay (150.00 / 5) * 1.12 = 33.6\n",
    "#Format the result to 2 decimal places = 33.60\n",
    "\n",
    "#Tip: There are 2 ways to round a number. You might have to do some Googling to solve this.💪\n",
    "\n",
    "#Write your code below this line 👇\n",
    "\n",
    "print(\"Welcome to the tip calculator!\")\n",
    "bill = float(input(\"What was the total bill?\"))\n",
    "tip = float(input(\"How much tip would you like to give? 10, 12, or 15?\")) / 100\n",
    "people = int(input(\"How many people to split the bill?\"))\n",
    "\n",
    "multiplier = 1 + tip\n",
    "\n",
    "total = \"{:.2f}\".format(bill/people * multiplier)\n",
    "\n",
    "print(f\"Each person should pay: ${total}\")"
   ]
  },
  {
   "cell_type": "markdown",
   "id": "c3fce0f0",
   "metadata": {
    "pycharm": {
     "name": "#%% md\n"
    }
   },
   "source": [
    "# Day 3 project - Treasure Island"
   ]
  },
  {
   "cell_type": "markdown",
   "id": "6eeb6d56",
   "metadata": {
    "pycharm": {
     "name": "#%% md\n"
    }
   },
   "source": [
    "Make your own \"Choose Your Own Adventure\" game. Use conditionals such as if, else, and elif statements to lay out the logic and the story's path in your program.\n",
    "\n",
    "To write your code according to my story, you can use this flow chart from draw.io to help you.\n",
    "\n",
    "However, I think the fun part is writing your own story 😊\n",
    "\n",
    "🧞‍♂️ 🐊 🧙‍♂️ 🧟 🧚‍♂️ 🧝‍♂️ 🥷 🤖 👽 🙀\n",
    "\n",
    "That said if you'd like to continue with my example, feel free to use the text snippets below...\n",
    "\n",
    "Text Snippets from my example\n",
    "\n",
    "'You're at a crossroad. Where do you want to go? Type \"left\" or \"right\"'\n",
    "'You've come to a lake. There is an island in the middle of the lake. Type \"wait\" to wait for a boat. Type \"swim\" to swim across.'\n",
    "\"You arrive at the island unharmed. There is a house with 3 doors. One red, one yellow and one blue. Which colour do you choose?\"\n",
    "\"It's a room full of fire. Game Over.\"\n",
    "\"You found the treasure! You Win!\"\n",
    "\"You enter a room of beasts. Game Over.\"\n",
    "\"You chose a door that doesn't exist. Game Over.\"\n",
    "\"You get attacked by an angry trout. Game Over.\"\n",
    "\"You fell into a hole. Game Over.\"\n",
    "Escaping Characters\n",
    "\n",
    "If you want to use multiple sets of quotes inside a single string, you might have to \"escape\" some of them using the backslash \\. You can see this in my first sentence: 'You're at a crossroad...'. More on escaping characters here.\n",
    "\n",
    "Extensions\n",
    "\n",
    "Have a think about how you might write your program to make a player's answers less case-sensitive. In other words, your code should work regardless of whether your user answers \"left\" or \"Left\".\n",
    "\n",
    "You can also add your own ASCII art. Just remember to add three single quotes ''' at the start and at the end of your artwork to turn it into a multi-line string."
   ]
  },
  {
   "cell_type": "code",
   "execution_count": 15,
   "id": "a19fd037",
   "metadata": {
    "pycharm": {
     "name": "#%%\n"
    }
   },
   "outputs": [
    {
     "name": "stdout",
     "output_type": "stream",
     "text": [
      "\n",
      "*******************************************************************************\n",
      "          |                   |                  |                     |\n",
      " _________|________________.=\"\"_;=.______________|_____________________|_______\n",
      "|                   |  ,-\"_,=\"\"     `\"=.|                  |\n",
      "|___________________|__\"=._o`\"-._        `\"=.______________|___________________\n",
      "          |                `\"=._o`\"=._      _`\"=._                     |\n",
      " _________|_____________________:=._o \"=._.\"_.-=\"'\"=.__________________|_______\n",
      "|                   |    __.--\" , ; `\"=._o.\" ,-\"\"\"-._ \".   |\n",
      "|___________________|_._\"  ,. .` ` `` ,  `\"-._\"-._   \". '__|___________________\n",
      "          |           |o`\"=._` , \"` `; .\". ,  \"-._\"-._; ;              |\n",
      " _________|___________| ;`-.o`\"=._; .\" ` '`.\"\\` . \"-._ /_______________|_______\n",
      "|                   | |o;    `\"-.o`\"=._``  '` \" ,__.--o;   |\n",
      "|___________________|_| ;     (#) `-.o `\"=.`_.--\"_o.-; ;___|___________________\n",
      "____/______/______/___|o;._    \"      `\".o|o_.--\"    ;o;____/______/______/____\n",
      "/______/______/______/_\"=._o--._        ; | ;        ; ;/______/______/______/_\n",
      "____/______/______/______/__\"=._o--._   ;o|o;     _._;o;____/______/______/____\n",
      "/______/______/______/______/____\"=._o._; | ;_.--\"o.--\"_/______/______/______/_\n",
      "____/______/______/______/______/_____\"=.o|o_.--\"\"___/______/______/______/____\n",
      "/______/______/______/______/______/______/______/______/______/______/_____ /\n",
      "*******************************************************************************\n",
      "\n",
      "Welcome to Treasure Island.\n",
      "Your mission is to find the treasure.\n",
      "'You're at a crossroad. Where do you want to go? Type \"left\" or \"right\"'LEFT\n",
      "'You've come to a lake. There is an island in the middle of the lake. Type \"wait\" to wait for a boat. Type \"swim\" to swim across.'WaiT\n",
      "'You arrive at the island unharmed. There is a house with 3 doors. One red, one yellow and one blue. Which colour do you choose?'YeLLoW\n",
      "'You found the treasure! You Win!'\n"
     ]
    }
   ],
   "source": [
    "print('''\n",
    "*******************************************************************************\n",
    "          |                   |                  |                     |\n",
    " _________|________________.=\"\"_;=.______________|_____________________|_______\n",
    "|                   |  ,-\"_,=\"\"     `\"=.|                  |\n",
    "|___________________|__\"=._o`\"-._        `\"=.______________|___________________\n",
    "          |                `\"=._o`\"=._      _`\"=._                     |\n",
    " _________|_____________________:=._o \"=._.\"_.-=\"'\"=.__________________|_______\n",
    "|                   |    __.--\" , ; `\"=._o.\" ,-\"\"\"-._ \".   |\n",
    "|___________________|_._\"  ,. .` ` `` ,  `\"-._\"-._   \". '__|___________________\n",
    "          |           |o`\"=._` , \"` `; .\". ,  \"-._\"-._; ;              |\n",
    " _________|___________| ;`-.o`\"=._; .\" ` '`.\"\\` . \"-._ /_______________|_______\n",
    "|                   | |o;    `\"-.o`\"=._``  '` \" ,__.--o;   |\n",
    "|___________________|_| ;     (#) `-.o `\"=.`_.--\"_o.-; ;___|___________________\n",
    "____/______/______/___|o;._    \"      `\".o|o_.--\"    ;o;____/______/______/____\n",
    "/______/______/______/_\"=._o--._        ; | ;        ; ;/______/______/______/_\n",
    "____/______/______/______/__\"=._o--._   ;o|o;     _._;o;____/______/______/____\n",
    "/______/______/______/______/____\"=._o._; | ;_.--\"o.--\"_/______/______/______/_\n",
    "____/______/______/______/______/_____\"=.o|o_.--\"\"___/______/______/______/____\n",
    "/______/______/______/______/______/______/______/______/______/______/_____ /\n",
    "*******************************************************************************\n",
    "''')\n",
    "print(\"Welcome to Treasure Island.\")\n",
    "print(\"Your mission is to find the treasure.\") \n",
    "\n",
    "#https://www.draw.io/?lightbox=1&highlight=0000ff&edit=_blank&layers=1&nav=1&title=Treasure%20Island%20Conditional.drawio#Uhttps%3A%2F%2Fdrive.google.com%2Fuc%3Fid%3D1oDe4ehjWZipYRsVfeAx2HyB7LCQ8_Fvi%26export%3Ddownload\n",
    "\n",
    "#Write your code below this line 👇\n",
    "\n",
    "direction = input(\"\\'You're at a crossroad. Where do you want to go? Type \\\"left\\\" or \\\"right\\\"\\'\")\n",
    "\n",
    "if (direction.lower() == \"left\"):\n",
    "    wait_or_swim = input(\"\\'You\\'ve come to a lake. There is an island in the middle of the lake. Type \\\"wait\\\" to wait for a boat. Type \\\"swim\\\" to swim across.\\'\")\n",
    "    if (wait_or_swim.lower() == \"wait\"):\n",
    "        #Wait\n",
    "        door_color = input(\"\\'You arrive at the island unharmed. There is a house with 3 doors. One red, one yellow and one blue. Which colour do you choose?\\'\")\n",
    "        \n",
    "        if (door_color.lower() == \"red\"):\n",
    "            print(\"\\'It's a room full of fire. Game Over.\\'\")\n",
    "        elif (door_color.lower() == \"yellow\"):\n",
    "            print(\"\\'You found the treasure! You Win!\\'\")\n",
    "        elif (door_color.lower() == \"blue\"):\n",
    "            print(\"\\'You enter a room of beasts. Game Over.\\'\")\n",
    "        else:\n",
    "            print(\"\\'You chose a door that doesn't exist. Game Over.\\'\")\n",
    "    else:\n",
    "        print(\"You get attacked by an angry trout. Game Over.\")\n",
    "else:\n",
    "    print(\"\\\"You fell into a hole. Game Over.\\\"\")\n"
   ]
  },
  {
   "cell_type": "markdown",
   "id": "9d25dcaf",
   "metadata": {
    "pycharm": {
     "name": "#%% md\n"
    }
   },
   "source": [
    "## Randomization"
   ]
  },
  {
   "cell_type": "code",
   "execution_count": 11,
   "id": "27d3f0ed",
   "metadata": {
    "pycharm": {
     "name": "#%%\n"
    }
   },
   "outputs": [
    {
     "name": "stdout",
     "output_type": "stream",
     "text": [
      "6\n",
      "0.4299527442458284\n",
      "9.189161686828712\n"
     ]
    }
   ],
   "source": [
    "import random\n",
    "\n",
    "random_int = random.randint(1,6)\n",
    "print(random_int)\n",
    "\n",
    "# Random float between 0.0 to 1.0\n",
    "random_float = random.random()\n",
    "print(random_float)\n",
    "\n",
    "\n",
    "# Moving range from [0.0, 1.0] to [0.0, x]\n",
    "x = 10\n",
    "random_float_to_ten = random.random() * x\n",
    "\n",
    "print(random_float_to_ten)"
   ]
  },
  {
   "cell_type": "code",
   "execution_count": null,
   "id": "f3729add",
   "metadata": {
    "pycharm": {
     "name": "#%%\n"
    }
   },
   "outputs": [],
   "source": []
  },
  {
   "cell_type": "code",
   "execution_count": null,
   "id": "44d6c771",
   "metadata": {
    "pycharm": {
     "name": "#%%\n"
    }
   },
   "outputs": [],
   "source": []
  },
  {
   "cell_type": "markdown",
   "id": "817add94",
   "metadata": {
    "pycharm": {
     "name": "#%% md\n"
    }
   },
   "source": [
    "# Day 4 project - Rock Paper Scissors"
   ]
  },
  {
   "cell_type": "markdown",
   "id": "68b8cb26",
   "metadata": {
    "pycharm": {
     "name": "#%% md\n"
    }
   },
   "source": [
    "Instructions\n",
    "\n",
    "Make a rock, paper, scissors game.\n",
    "\n",
    "Inside the main.py file, you'll find the ASCII art for the hand signals already saved to a corresponding variable: rock, paper, and scissors. This will make it easy to print them out to the console.\n",
    "\n",
    "Start the game by asking the player:\n",
    "\n",
    "\"What do you choose? Type 0 for Rock, 1 for Paper or 2 for Scissors.\"\n",
    "\n",
    "From there you will need to figure out:\n",
    "\n",
    "How you will store the user's input.\n",
    "\n",
    "How you will generate a random choice for the computer.\n",
    "\n",
    "How you will compare the user's and the computer's choice to determine the winner (or a draw).\n",
    "\n",
    "And also how you will give feedback to the player.\n",
    "\n",
    "You can find the \"official\" rules of the game on the World Rock Paper Scissors Association website."
   ]
  },
  {
   "cell_type": "code",
   "execution_count": 53,
   "id": "c072fd7e",
   "metadata": {
    "pycharm": {
     "name": "#%%\n"
    }
   },
   "outputs": [
    {
     "name": "stdout",
     "output_type": "stream",
     "text": [
      "What do you choose? Type 0 for Rock, 1 for Paper or 2 for Scissors.2\n",
      "\n",
      "    _______\n",
      "---'   ____)____\n",
      "          ______)\n",
      "       __________)\n",
      "      (____)\n",
      "---.__(___)\n",
      "\n",
      "\n",
      "Computer chose:\n",
      "\n",
      "    _______\n",
      "---'   ____)____\n",
      "          ______)\n",
      "       __________)\n",
      "      (____)\n",
      "---.__(___)\n",
      "\n",
      "It's a draw!\n"
     ]
    }
   ],
   "source": [
    "import random\n",
    "\n",
    "rock = '''\n",
    "    _______\n",
    "---'   ____)\n",
    "      (_____)\n",
    "      (_____)\n",
    "      (____)\n",
    "---.__(___)\n",
    "'''\n",
    "\n",
    "paper = '''\n",
    "    _______\n",
    "---'   ____)____\n",
    "          ______)\n",
    "          _______)\n",
    "         _______)\n",
    "---.__________)\n",
    "'''\n",
    "\n",
    "scissors = '''\n",
    "    _______\n",
    "---'   ____)____\n",
    "          ______)\n",
    "       __________)\n",
    "      (____)\n",
    "---.__(___)\n",
    "'''\n",
    "\n",
    "#Write your code below this line 👇\n",
    "\n",
    "\n",
    "game_images = [rock, paper, scissors]\n",
    "while True :\n",
    "    user_choice = int(input(\"What do you choose? Type 0 for Rock, 1 for Paper or 2 for Scissors.\"))\n",
    "\n",
    "    # This should be a function\n",
    "    if user_choice < 0 or user_choice > 2:\n",
    "        print(\"This choice is not allowed, please pick 0, 1 or 2\")\n",
    "    else:\n",
    "        break\n",
    "        \n",
    "print(game_images[user_choice])\n",
    "\n",
    "computer_choice = random.randint(0,2)\n",
    "\n",
    "\n",
    "print(\"\\nComputer chose:\")\n",
    "\n",
    "\n",
    "print(game_images[computer_choice])\n",
    "\n",
    "\n",
    "if user_choice == computer_choice:\n",
    "    print(\"It's a draw!\")\n",
    "elif (computer_choice > user_choice and computer_choice - user_choice < 2) or user_choice - computer_choice == 2:\n",
    "    print(\"Computer wins!\")\n",
    "else:\n",
    "    print(\"You win!\")"
   ]
  },
  {
   "cell_type": "markdown",
   "id": "a05c5764",
   "metadata": {
    "pycharm": {
     "name": "#%% md\n"
    }
   },
   "source": [
    "# Day 5 project - Create a password generator"
   ]
  },
  {
   "cell_type": "code",
   "execution_count": 81,
   "id": "d4fbe841",
   "metadata": {
    "pycharm": {
     "name": "#%%\n"
    }
   },
   "outputs": [
    {
     "name": "stdout",
     "output_type": "stream",
     "text": [
      "Welcome to the PyPassword Generator!\n",
      "How many letters would you like in your password?\n",
      "4\n",
      "How many symbols would you like?\n",
      "5\n",
      "How many numbers would you like?\n",
      "6\n",
      "066#4*%7g)q2v%q\n"
     ]
    }
   ],
   "source": [
    "#Password Generator Project\n",
    "import random\n",
    "letters = ['a', 'b', 'c', 'd', 'e', 'f', 'g', 'h', 'i', 'j', 'k', 'l', 'm', 'n', 'o', 'p', 'q', 'r', 's', 't', 'u', 'v', 'w', 'x', 'y', 'z', 'A', 'B', 'C', 'D', 'E', 'F', 'G', 'H', 'I', 'J', 'K', 'L', 'M', 'N', 'O', 'P', 'Q', 'R', 'S', 'T', 'U', 'V', 'W', 'X', 'Y', 'Z']\n",
    "numbers = ['0', '1', '2', '3', '4', '5', '6', '7', '8', '9']\n",
    "symbols = ['!', '#', '$', '%', '&', '(', ')', '*', '+']\n",
    "\n",
    "print(\"Welcome to the PyPassword Generator!\")\n",
    "nr_letters= int(input(\"How many letters would you like in your password?\\n\")) \n",
    "nr_symbols = int(input(f\"How many symbols would you like?\\n\"))\n",
    "nr_numbers = int(input(f\"How many numbers would you like?\\n\"))\n",
    "\n",
    "#Eazy Level - Order not randomised:\n",
    "#e.g. 4 letter, 2 symbol, 2 number = JduE&!91\n",
    "\n",
    "password = \"\"\n",
    "\n",
    "#for i in range(0, nr_letters):\n",
    "#    password += random.ch0ice(letters)\n",
    "#for i in range(0, nr_symbols):\n",
    "#    password += random.choice(symbols)\n",
    "#for i in range(0, nr_numbers):\n",
    "#    password += random.choice(numbers)\n",
    "\n",
    "#print(password)\n",
    "\n",
    "#Hard Level - Order of characters randomised:\n",
    "#e.g. 4 letter, 2 symbol, 2 number = g^2jk8&P\n",
    "\n",
    "\n",
    "password_list = []\n",
    "\n",
    "password_chars = nr_letters + nr_symbols + nr_numbers\n",
    "\n",
    "for i in range(0, nr_letters):\n",
    "    password_list.append(random.choice(letters))\n",
    "for i in range(0, nr_symbols):\n",
    "    password_list.append(random.choice(symbols))\n",
    "for i in range(0, nr_numbers):\n",
    "    password_list.append(random.choice(numbers))\n",
    "    \n",
    "    \n",
    "\n",
    "password_list_shuffled = random.shuffle(password_list)\n",
    "\n",
    "for i in password_list:\n",
    "    password += i\n",
    "        \n",
    "print(password)\n",
    "\n"
   ]
  },
  {
   "cell_type": "markdown",
   "id": "4bbf8f71",
   "metadata": {
    "pycharm": {
     "name": "#%% md\n"
    }
   },
   "source": [
    "# Day 7"
   ]
  },
  {
   "cell_type": "markdown",
   "id": "3f9acb34",
   "metadata": {
    "pycharm": {
     "name": "#%% md\n"
    }
   },
   "source": [
    "Letter in word"
   ]
  },
  {
   "cell_type": "code",
   "execution_count": 5,
   "id": "49d9d7d6",
   "metadata": {
    "pycharm": {
     "name": "#%%\n"
    }
   },
   "outputs": [
    {
     "name": "stdout",
     "output_type": "stream",
     "text": [
      "Pssst, the solution is camel.\n",
      "Guess a letter: c\n",
      "['c', '_', '_', '_', '_']\n",
      "Guess a letter: a\n",
      "['c', 'a', '_', '_', '_']\n",
      "Guess a letter: d\n",
      "['c', 'a', '_', '_', '_']\n",
      "Guess a letter: w\n",
      "['c', 'a', '_', '_', '_']\n",
      "Guess a letter: e\n",
      "['c', 'a', '_', 'e', '_']\n",
      "Guess a letter: l\n",
      "['c', 'a', '_', 'e', 'l']\n",
      "Guess a letter: \n",
      "['c', 'a', '_', 'e', 'l']\n",
      "Guess a letter: s\n",
      "['c', 'a', '_', 'e', 'l']\n",
      "Guess a letter: s\n",
      "['c', 'a', '_', 'e', 'l']\n",
      "Guess a letter: m\n",
      "['c', 'a', 'm', 'e', 'l']\n",
      "You won!\n"
     ]
    }
   ],
   "source": [
    "#Step 3\n",
    "import random\n",
    "word_list = [\"aardvark\", \"baboon\", \"camel\"]\n",
    "chosen_word = random.choice(word_list)\n",
    "word_length = len(chosen_word)\n",
    "\n",
    "#Testing code\n",
    "print(f'Pssst, the solution is {chosen_word}.')\n",
    "\n",
    "#Create blanks\n",
    "display = []\n",
    "for _ in range(word_length):\n",
    "    display += \"_\"\n",
    "\n",
    "#TODO-1: - Use a while loop to let the user guess again. The loop should only stop once the user has guessed all the letters in the chosen_word and 'display' has no more blanks (\"_\"). Then you can tell the user they've won.\n",
    "\n",
    "while \"_\" in display:\n",
    "\n",
    "    guess = input(\"Guess a letter: \").lower()\n",
    "\n",
    "    #Check guessed letter\n",
    "    for position in range(word_length):\n",
    "        letter = chosen_word[position]\n",
    "        if letter == guess:\n",
    "            display[position] = letter\n",
    "    print(display)\n",
    "print(\"You won!\")\n"
   ]
  },
  {
   "cell_type": "code",
   "execution_count": 4,
   "id": "3d7bb8d8",
   "metadata": {
    "pycharm": {
     "name": "#%%\n"
    }
   },
   "outputs": [
    {
     "name": "stdout",
     "output_type": "stream",
     "text": [
      "Pssst, the solution is camel.\n",
      "Guess a letter: c\n",
      "c _ _ _ _\n",
      "\n",
      "  +---+\n",
      "  |   |\n",
      "      |\n",
      "      |\n",
      "      |\n",
      "      |\n",
      "=========\n",
      "\n",
      "Guess a letter: e\n",
      "c _ _ e _\n",
      "\n",
      "  +---+\n",
      "  |   |\n",
      "      |\n",
      "      |\n",
      "      |\n",
      "      |\n",
      "=========\n",
      "\n",
      "Guess a letter: l\n",
      "c _ _ e l\n",
      "\n",
      "  +---+\n",
      "  |   |\n",
      "      |\n",
      "      |\n",
      "      |\n",
      "      |\n",
      "=========\n",
      "\n",
      "Guess a letter: m\n",
      "c _ m e l\n",
      "\n",
      "  +---+\n",
      "  |   |\n",
      "      |\n",
      "      |\n",
      "      |\n",
      "      |\n",
      "=========\n",
      "\n",
      "Guess a letter: s\n",
      "c _ m e l\n",
      "\n",
      "  +---+\n",
      "  |   |\n",
      "  O   |\n",
      "      |\n",
      "      |\n",
      "      |\n",
      "=========\n",
      "\n",
      "Guess a letter: a\n",
      "c a m e l\n",
      "You win.\n",
      "\n",
      "  +---+\n",
      "  |   |\n",
      "  O   |\n",
      "      |\n",
      "      |\n",
      "      |\n",
      "=========\n",
      "\n"
     ]
    }
   ],
   "source": [
    "#Step 4\n",
    "\n",
    "import random\n",
    "\n",
    "stages = ['''\n",
    "  +---+\n",
    "  |   |\n",
    "  O   |\n",
    " /|\\  |\n",
    " / \\  |\n",
    "      |\n",
    "=========\n",
    "''', '''\n",
    "  +---+\n",
    "  |   |\n",
    "  O   |\n",
    " /|\\  |\n",
    " /    |\n",
    "      |\n",
    "=========\n",
    "''', '''\n",
    "  +---+\n",
    "  |   |\n",
    "  O   |\n",
    " /|\\  |\n",
    "      |\n",
    "      |\n",
    "=========\n",
    "''', '''\n",
    "  +---+\n",
    "  |   |\n",
    "  O   |\n",
    " /|   |\n",
    "      |\n",
    "      |\n",
    "=========''', '''\n",
    "  +---+\n",
    "  |   |\n",
    "  O   |\n",
    "  |   |\n",
    "      |\n",
    "      |\n",
    "=========\n",
    "''', '''\n",
    "  +---+\n",
    "  |   |\n",
    "  O   |\n",
    "      |\n",
    "      |\n",
    "      |\n",
    "=========\n",
    "''', '''\n",
    "  +---+\n",
    "  |   |\n",
    "      |\n",
    "      |\n",
    "      |\n",
    "      |\n",
    "=========\n",
    "''']\n",
    "\n",
    "end_of_game = False\n",
    "word_list = [\"ardvark\", \"baboon\", \"camel\"]\n",
    "chosen_word = random.choice(word_list)\n",
    "word_length = len(chosen_word)\n",
    "\n",
    "#TODO-1: - Create a variable called 'lives' to keep track of the number of lives left. \n",
    "#Set 'lives' to equal 6.\n",
    "\n",
    "lives = 6\n",
    "\n",
    "#Testing code\n",
    "print(f'Pssst, the solution is {chosen_word}.')\n",
    "\n",
    "#Create blanks\n",
    "display = []\n",
    "for _ in range(word_length):\n",
    "    display += \"_\"\n",
    "\n",
    "while not end_of_game:\n",
    "    guess = input(\"Guess a letter: \").lower()\n",
    "\n",
    "    #Check guessed letter\n",
    "    for position in range(word_length):\n",
    "        letter = chosen_word[position]\n",
    "        # print(f\"Current position: {position}\\n Current letter: {letter}\\n Guessed letter: {guess}\")\n",
    "        if letter == guess:\n",
    "            display[position] = letter\n",
    "\n",
    "    #TODO-2: - If guess is not a letter in the chosen_word,\n",
    "    #Then reduce 'lives' by 1. \n",
    "    \n",
    "    if guess not in chosen_word:\n",
    "        lives -= 1\n",
    "        if lives == 0:\n",
    "            end_of_game = True\n",
    "            print(\"You lose!\")\n",
    "        \n",
    "    #If lives goes down to 0 then the game should stop and it should print \"You lose.\"\n",
    "\n",
    "    #Join all the elements in the list and turn it into a String.\n",
    "    print(f\"{' '.join(display)}\")\n",
    "\n",
    "    #Check if user has got all letters.\n",
    "    if \"_\" not in display:\n",
    "        end_of_game = True\n",
    "        print(\"You win.\")\n",
    "\n",
    "    #TODO-3: - print the ASCII art from 'stages' that corresponds to the current number of 'lives' the user has remaining.\n",
    "    \n",
    "    print(stages[lives])"
   ]
  },
  {
   "cell_type": "code",
   "execution_count": null,
   "id": "9b89bce4",
   "metadata": {
    "pycharm": {
     "name": "#%%\n"
    }
   },
   "outputs": [],
   "source": []
  },
  {
   "cell_type": "code",
   "execution_count": null,
   "id": "6f2b31af",
   "metadata": {
    "pycharm": {
     "name": "#%%\n"
    }
   },
   "outputs": [],
   "source": []
  }
 ],
 "metadata": {
  "kernelspec": {
   "display_name": "Python 3",
   "language": "python",
   "name": "python3"
  },
  "language_info": {
   "codemirror_mode": {
    "name": "ipython",
    "version": 3
   },
   "file_extension": ".py",
   "mimetype": "text/x-python",
   "name": "python",
   "nbconvert_exporter": "python",
   "pygments_lexer": "ipython3",
   "version": "3.8.8"
  }
 },
 "nbformat": 4,
 "nbformat_minor": 5
}